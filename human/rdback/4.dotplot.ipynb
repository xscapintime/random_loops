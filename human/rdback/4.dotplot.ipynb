{
    "cells": [
        {
            "cell_type": "code",
            "execution_count": null,
            "source": [
                "\"\"\"\n",
                "\n",
                "Dotplot to reveal the relationship.\n",
                "\n",
                "\"\"\""
            ],
            "outputs": [],
            "metadata": {}
        },
        {
            "cell_type": "code",
            "execution_count": 1,
            "source": [
                "import os, sys, glob\n",
                "import numpy as np\n",
                "import pandas as pd\n",
                "import pyranges as pr\n",
                "import matplotlib.pyplot as plt\n",
                "import seaborn as sns"
            ],
            "outputs": [],
            "metadata": {}
        },
        {
            "cell_type": "code",
            "execution_count": 2,
            "source": [
                "zmat = pd.read_csv('ctcf_rad21_zmat.txt', sep='\\t')\n",
                "zmat.head()"
            ],
            "outputs": [
                {
                    "output_type": "execute_result",
                    "data": {
                        "text/plain": [
                            "          0         1         2         3         4         5         6  \\\n",
                            "0 -1.017134 -1.079638 -0.213492  0.387380 -0.140657  0.525833  0.174746   \n",
                            "1 -1.120920 -1.072634 -0.056205  0.220502  0.070524  0.350351  0.471241   \n",
                            "2 -1.092810 -0.959338 -0.004935  0.192637  0.118385  0.321009  0.561996   \n",
                            "3 -1.073168 -0.893579 -0.025697  0.261649  0.080405  0.371520  0.446604   \n",
                            "4 -1.111680 -0.942127 -0.025648  0.218052  0.103872  0.396849  0.410850   \n",
                            "\n",
                            "          7         8         9        10        11        12        13  \\\n",
                            "0  1.046828  0.009519  0.768667 -0.263550  0.310812  0.798604  2.145546   \n",
                            "1  0.820880  0.245466  0.581706 -0.093672  0.156037  1.325473  1.823266   \n",
                            "2  0.734967  0.319414  0.558116 -0.082978  0.062947  1.465700  1.719706   \n",
                            "3  0.766119  0.255201  0.520460 -0.117619  0.154797  1.390609  1.827405   \n",
                            "4  0.799226  0.208403  0.595014 -0.138829  0.099305  1.372393  1.836427   \n",
                            "\n",
                            "         14        15        16        17  \n",
                            "0 -0.175323  0.425954 -1.616423 -2.087672  \n",
                            "1  0.003724  0.257620 -1.943228 -2.040131  \n",
                            "2  0.024289  0.141124 -2.023350 -2.056877  \n",
                            "3 -0.035250  0.162757 -2.014595 -2.077618  \n",
                            "4  0.004563  0.204385 -1.973765 -2.057290  "
                        ],
                        "text/html": [
                            "<div>\n",
                            "<style scoped>\n",
                            "    .dataframe tbody tr th:only-of-type {\n",
                            "        vertical-align: middle;\n",
                            "    }\n",
                            "\n",
                            "    .dataframe tbody tr th {\n",
                            "        vertical-align: top;\n",
                            "    }\n",
                            "\n",
                            "    .dataframe thead th {\n",
                            "        text-align: right;\n",
                            "    }\n",
                            "</style>\n",
                            "<table border=\"1\" class=\"dataframe\">\n",
                            "  <thead>\n",
                            "    <tr style=\"text-align: right;\">\n",
                            "      <th></th>\n",
                            "      <th>0</th>\n",
                            "      <th>1</th>\n",
                            "      <th>2</th>\n",
                            "      <th>3</th>\n",
                            "      <th>4</th>\n",
                            "      <th>5</th>\n",
                            "      <th>6</th>\n",
                            "      <th>7</th>\n",
                            "      <th>8</th>\n",
                            "      <th>9</th>\n",
                            "      <th>10</th>\n",
                            "      <th>11</th>\n",
                            "      <th>12</th>\n",
                            "      <th>13</th>\n",
                            "      <th>14</th>\n",
                            "      <th>15</th>\n",
                            "      <th>16</th>\n",
                            "      <th>17</th>\n",
                            "    </tr>\n",
                            "  </thead>\n",
                            "  <tbody>\n",
                            "    <tr>\n",
                            "      <th>0</th>\n",
                            "      <td>-1.017134</td>\n",
                            "      <td>-1.079638</td>\n",
                            "      <td>-0.213492</td>\n",
                            "      <td>0.387380</td>\n",
                            "      <td>-0.140657</td>\n",
                            "      <td>0.525833</td>\n",
                            "      <td>0.174746</td>\n",
                            "      <td>1.046828</td>\n",
                            "      <td>0.009519</td>\n",
                            "      <td>0.768667</td>\n",
                            "      <td>-0.263550</td>\n",
                            "      <td>0.310812</td>\n",
                            "      <td>0.798604</td>\n",
                            "      <td>2.145546</td>\n",
                            "      <td>-0.175323</td>\n",
                            "      <td>0.425954</td>\n",
                            "      <td>-1.616423</td>\n",
                            "      <td>-2.087672</td>\n",
                            "    </tr>\n",
                            "    <tr>\n",
                            "      <th>1</th>\n",
                            "      <td>-1.120920</td>\n",
                            "      <td>-1.072634</td>\n",
                            "      <td>-0.056205</td>\n",
                            "      <td>0.220502</td>\n",
                            "      <td>0.070524</td>\n",
                            "      <td>0.350351</td>\n",
                            "      <td>0.471241</td>\n",
                            "      <td>0.820880</td>\n",
                            "      <td>0.245466</td>\n",
                            "      <td>0.581706</td>\n",
                            "      <td>-0.093672</td>\n",
                            "      <td>0.156037</td>\n",
                            "      <td>1.325473</td>\n",
                            "      <td>1.823266</td>\n",
                            "      <td>0.003724</td>\n",
                            "      <td>0.257620</td>\n",
                            "      <td>-1.943228</td>\n",
                            "      <td>-2.040131</td>\n",
                            "    </tr>\n",
                            "    <tr>\n",
                            "      <th>2</th>\n",
                            "      <td>-1.092810</td>\n",
                            "      <td>-0.959338</td>\n",
                            "      <td>-0.004935</td>\n",
                            "      <td>0.192637</td>\n",
                            "      <td>0.118385</td>\n",
                            "      <td>0.321009</td>\n",
                            "      <td>0.561996</td>\n",
                            "      <td>0.734967</td>\n",
                            "      <td>0.319414</td>\n",
                            "      <td>0.558116</td>\n",
                            "      <td>-0.082978</td>\n",
                            "      <td>0.062947</td>\n",
                            "      <td>1.465700</td>\n",
                            "      <td>1.719706</td>\n",
                            "      <td>0.024289</td>\n",
                            "      <td>0.141124</td>\n",
                            "      <td>-2.023350</td>\n",
                            "      <td>-2.056877</td>\n",
                            "    </tr>\n",
                            "    <tr>\n",
                            "      <th>3</th>\n",
                            "      <td>-1.073168</td>\n",
                            "      <td>-0.893579</td>\n",
                            "      <td>-0.025697</td>\n",
                            "      <td>0.261649</td>\n",
                            "      <td>0.080405</td>\n",
                            "      <td>0.371520</td>\n",
                            "      <td>0.446604</td>\n",
                            "      <td>0.766119</td>\n",
                            "      <td>0.255201</td>\n",
                            "      <td>0.520460</td>\n",
                            "      <td>-0.117619</td>\n",
                            "      <td>0.154797</td>\n",
                            "      <td>1.390609</td>\n",
                            "      <td>1.827405</td>\n",
                            "      <td>-0.035250</td>\n",
                            "      <td>0.162757</td>\n",
                            "      <td>-2.014595</td>\n",
                            "      <td>-2.077618</td>\n",
                            "    </tr>\n",
                            "    <tr>\n",
                            "      <th>4</th>\n",
                            "      <td>-1.111680</td>\n",
                            "      <td>-0.942127</td>\n",
                            "      <td>-0.025648</td>\n",
                            "      <td>0.218052</td>\n",
                            "      <td>0.103872</td>\n",
                            "      <td>0.396849</td>\n",
                            "      <td>0.410850</td>\n",
                            "      <td>0.799226</td>\n",
                            "      <td>0.208403</td>\n",
                            "      <td>0.595014</td>\n",
                            "      <td>-0.138829</td>\n",
                            "      <td>0.099305</td>\n",
                            "      <td>1.372393</td>\n",
                            "      <td>1.836427</td>\n",
                            "      <td>0.004563</td>\n",
                            "      <td>0.204385</td>\n",
                            "      <td>-1.973765</td>\n",
                            "      <td>-2.057290</td>\n",
                            "    </tr>\n",
                            "  </tbody>\n",
                            "</table>\n",
                            "</div>"
                        ]
                    },
                    "metadata": {},
                    "execution_count": 2
                }
            ],
            "metadata": {}
        },
        {
            "cell_type": "code",
            "execution_count": 3,
            "source": [
                "zmat.shape"
            ],
            "outputs": [
                {
                    "output_type": "execute_result",
                    "data": {
                        "text/plain": [
                            "(20, 18)"
                        ]
                    },
                    "metadata": {},
                    "execution_count": 3
                }
            ],
            "metadata": {}
        },
        {
            "cell_type": "code",
            "execution_count": 11,
            "source": [
                "# mean of zscore for each column\n",
                "# exclude first two rows\n",
                "\n",
                "zscore_mean = zmat.drop([0,1]).mean(axis=0)\n",
                "print(zscore_mean)\n",
                "len(zscore_mean)"
            ],
            "outputs": [
                {
                    "output_type": "stream",
                    "name": "stdout",
                    "text": [
                        "0    -1.368144\n",
                        "1    -0.938824\n",
                        "2    -0.178413\n",
                        "3     0.272753\n",
                        "4    -0.051161\n",
                        "5     0.414272\n",
                        "6     0.297144\n",
                        "7     0.813718\n",
                        "8     0.081210\n",
                        "9     0.595826\n",
                        "10   -0.120825\n",
                        "11    0.283283\n",
                        "12    1.300598\n",
                        "13    1.875331\n",
                        "14    0.038441\n",
                        "15    0.459761\n",
                        "16   -1.984593\n",
                        "17   -1.790377\n",
                        "dtype: float64\n"
                    ]
                },
                {
                    "output_type": "execute_result",
                    "data": {
                        "text/plain": [
                            "18"
                        ]
                    },
                    "metadata": {},
                    "execution_count": 11
                }
            ],
            "metadata": {}
        },
        {
            "cell_type": "code",
            "execution_count": 5,
            "source": [
                "# peak number\n",
                "\n",
                "## load bed files\n",
                "bedpath = '../data/bed/ctcf.rad21/'\n",
                "bedfile = glob.glob(os.path.join(bedpath,'*.bed'))\n",
                "peaknum = []\n",
                "for b in bedfile:\n",
                "    bed = pr.read_bed(b)\n",
                "    peaknum.append(len(bed))"
            ],
            "outputs": [],
            "metadata": {}
        },
        {
            "cell_type": "code",
            "execution_count": 6,
            "source": [
                "print(peaknum)\n",
                "len(peaknum)"
            ],
            "outputs": [
                {
                    "output_type": "stream",
                    "name": "stdout",
                    "text": [
                        "[70084, 82900, 87184, 101440, 97256, 92669, 151864, 86582, 51993]\n"
                    ]
                },
                {
                    "output_type": "execute_result",
                    "data": {
                        "text/plain": [
                            "9"
                        ]
                    },
                    "metadata": {},
                    "execution_count": 6
                }
            ],
            "metadata": {}
        },
        {
            "cell_type": "code",
            "execution_count": 7,
            "source": [
                "peaknum = np.repeat(peaknum, 2)\n",
                "peaknum"
            ],
            "outputs": [
                {
                    "output_type": "execute_result",
                    "data": {
                        "text/plain": [
                            "array([ 70084,  70084,  82900,  82900,  87184,  87184, 101440, 101440,\n",
                            "        97256,  97256,  92669,  92669, 151864, 151864,  86582,  86582,\n",
                            "        51993,  51993])"
                        ]
                    },
                    "metadata": {},
                    "execution_count": 7
                }
            ],
            "metadata": {}
        },
        {
            "cell_type": "code",
            "execution_count": 8,
            "source": [
                "len(peaknum)\n",
                "type(peaknum)"
            ],
            "outputs": [
                {
                    "output_type": "execute_result",
                    "data": {
                        "text/plain": [
                            "numpy.ndarray"
                        ]
                    },
                    "metadata": {},
                    "execution_count": 8
                }
            ],
            "metadata": {}
        },
        {
            "cell_type": "code",
            "execution_count": 58,
            "source": [
                "#peaknum = peaknum.tolist()"
            ],
            "outputs": [
                {
                    "output_type": "error",
                    "ename": "AttributeError",
                    "evalue": "'list' object has no attribute 'tolist'",
                    "traceback": [
                        "\u001b[0;31m---------------------------------------------------------------------------\u001b[0m",
                        "\u001b[0;31mAttributeError\u001b[0m                            Traceback (most recent call last)",
                        "\u001b[0;32m<ipython-input-58-269a53bc9de9>\u001b[0m in \u001b[0;36m<module>\u001b[0;34m\u001b[0m\n\u001b[0;32m----> 1\u001b[0;31m \u001b[0mpeaknum\u001b[0m \u001b[0;34m=\u001b[0m \u001b[0mpeaknum\u001b[0m\u001b[0;34m.\u001b[0m\u001b[0mtolist\u001b[0m\u001b[0;34m(\u001b[0m\u001b[0;34m)\u001b[0m\u001b[0;34m\u001b[0m\u001b[0;34m\u001b[0m\u001b[0m\n\u001b[0m\u001b[1;32m      2\u001b[0m \u001b[0mtype\u001b[0m\u001b[0;34m(\u001b[0m\u001b[0mpeaknum\u001b[0m\u001b[0;34m)\u001b[0m\u001b[0;34m\u001b[0m\u001b[0;34m\u001b[0m\u001b[0m\n",
                        "\u001b[0;31mAttributeError\u001b[0m: 'list' object has no attribute 'tolist'"
                    ]
                }
            ],
            "metadata": {}
        },
        {
            "cell_type": "code",
            "execution_count": 12,
            "source": [
                "zscore_mean"
            ],
            "outputs": [
                {
                    "output_type": "execute_result",
                    "data": {
                        "text/plain": [
                            "0    -1.368144\n",
                            "1    -0.938824\n",
                            "2    -0.178413\n",
                            "3     0.272753\n",
                            "4    -0.051161\n",
                            "5     0.414272\n",
                            "6     0.297144\n",
                            "7     0.813718\n",
                            "8     0.081210\n",
                            "9     0.595826\n",
                            "10   -0.120825\n",
                            "11    0.283283\n",
                            "12    1.300598\n",
                            "13    1.875331\n",
                            "14    0.038441\n",
                            "15    0.459761\n",
                            "16   -1.984593\n",
                            "17   -1.790377\n",
                            "dtype: float64"
                        ]
                    },
                    "metadata": {},
                    "execution_count": 12
                }
            ],
            "metadata": {}
        },
        {
            "cell_type": "code",
            "execution_count": 13,
            "source": [
                "## plot\n",
                "\n",
                "sns.regplot(x=zscore_mean, y=peaknum)"
            ],
            "outputs": [
                {
                    "output_type": "execute_result",
                    "data": {
                        "text/plain": [
                            "<AxesSubplot:>"
                        ]
                    },
                    "metadata": {},
                    "execution_count": 13
                },
                {
                    "output_type": "display_data",
                    "data": {
                        "text/plain": [
                            "<Figure size 432x288 with 1 Axes>"
                        ],
                        "image/png": "[encoded data removed]"
                    },
                    "metadata": {
                        "needs_background": "light"
                    }
                }
            ],
            "metadata": {}
        },
        {
            "cell_type": "code",
            "execution_count": null,
            "source": [
                "for line in range(0,len(zscore_mean)):\n",
                "     plt.text(df.x[line]+0.2, df.y[line], df.group[line], horizontalalignment='left', size='medium', color='black', weight='semibold')\n",
                "\n",
                "plt.show()"
            ],
            "outputs": [],
            "metadata": {}
        },
        {
            "cell_type": "code",
            "execution_count": 15,
            "source": [
                "zmat.columns"
            ],
            "outputs": [
                {
                    "output_type": "execute_result",
                    "data": {
                        "text/plain": [
                            "Index(['0', '1', '2', '3', '4', '5', '6', '7', '8', '9', '10', '11', '12',\n",
                            "       '13', '14', '15', '16', '17'],\n",
                            "      dtype='object')"
                        ]
                    },
                    "metadata": {},
                    "execution_count": 15
                }
            ],
            "metadata": {}
        },
        {
            "cell_type": "code",
            "execution_count": null,
            "source": [],
            "outputs": [],
            "metadata": {}
        }
    ],
    "metadata": {
        "orig_nbformat": 4,
        "language_info": {
            "name": "python"
        }
    },
    "nbformat": 4,
    "nbformat_minor": 2
}