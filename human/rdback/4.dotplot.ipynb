{
    "cells": [
        {
            "cell_type": "code",
            "execution_count": 1,
            "source": [
                "\"\"\"\n",
                "\n",
                "Dotplot to reveal the relationship.\n",
                "\n",
                "\"\"\""
            ],
            "outputs": [
                {
                    "output_type": "execute_result",
                    "data": {
                        "text/plain": [
                            "'\\n\\nDotplot to reveal the relationship.\\n\\n'"
                        ]
                    },
                    "metadata": {},
                    "execution_count": 1
                }
            ],
            "metadata": {}
        },
        {
            "cell_type": "code",
            "execution_count": 136,
            "source": [
                "import os, sys, glob\n",
                "import numpy as np\n",
                "import pandas as pd\n",
                "import pyranges as pr\n",
                "import matplotlib.pyplot as plt\n",
                "import seaborn as sns\n",
                "import scipy.stats"
            ],
            "outputs": [],
            "metadata": {}
        },
        {
            "cell_type": "code",
            "execution_count": 3,
            "source": [
                "zmat = pd.read_csv('ctcf_rad21_zmat.txt', sep='\\t')\n",
                "zmat.head()"
            ],
            "outputs": [
                {
                    "output_type": "execute_result",
                    "data": {
                        "text/plain": [
                            "   CTCF_35846_r1  CTCF_36632_r1  CTCF_45230_r1  CTCF_46184_r1  CTCF_50988_r1  \\\n",
                            "0      -1.318572      -0.157354      -0.339638      -0.614140      -0.827945   \n",
                            "1      -1.573287       0.056552      -0.180618      -0.574109      -0.892400   \n",
                            "2      -1.455468       0.150923      -0.168586      -0.730053      -1.001251   \n",
                            "3      -1.323979       0.103611      -0.176518      -0.885393      -0.967052   \n",
                            "4      -1.446131       0.083871      -0.150503      -0.980339      -1.029557   \n",
                            "\n",
                            "   RAD21_45689_r1  RAD21_46164_r1  RAD21_91096_r1  RAD21_94415_r1  \\\n",
                            "0        0.130854       -0.933315        0.898413       -0.001785   \n",
                            "1        0.500983       -0.899813        1.496707        0.184310   \n",
                            "2        0.579184       -1.103368        1.688356        0.388852   \n",
                            "3        0.498324       -1.200650        1.512596        0.291995   \n",
                            "4        0.409386       -1.089981        1.583741        0.399450   \n",
                            "\n",
                            "   CTCF_35846_r2  CTCF_36632_r2  CTCF_45230_r2  CTCF_46184_r2  CTCF_50988_r2  \\\n",
                            "0      -1.491006       0.742233       0.434203      -0.125670      -0.444897   \n",
                            "1      -1.408912       0.571536       0.255217      -0.272493      -0.559289   \n",
                            "2      -0.980324       0.605919       0.260577      -0.435935      -0.583242   \n",
                            "3      -0.865260       0.736269       0.382021      -0.524749      -0.624298   \n",
                            "4      -0.842970       0.651597       0.363544      -0.530841      -0.520532   \n",
                            "\n",
                            "   RAD21_45689_r2  RAD21_46164_r2  RAD21_91096_r2  RAD21_94415_r2  \n",
                            "0        1.257339       -0.672018        2.492324        0.970974  \n",
                            "1        1.070003       -0.771598        2.217087        0.780124  \n",
                            "2        0.935045       -1.027605        2.048915        0.828063  \n",
                            "3        0.966360       -0.997551        2.114469        0.959804  \n",
                            "4        1.000578       -0.901557        2.091617        0.908629  "
                        ],
                        "text/html": [
                            "<div>\n",
                            "<style scoped>\n",
                            "    .dataframe tbody tr th:only-of-type {\n",
                            "        vertical-align: middle;\n",
                            "    }\n",
                            "\n",
                            "    .dataframe tbody tr th {\n",
                            "        vertical-align: top;\n",
                            "    }\n",
                            "\n",
                            "    .dataframe thead th {\n",
                            "        text-align: right;\n",
                            "    }\n",
                            "</style>\n",
                            "<table border=\"1\" class=\"dataframe\">\n",
                            "  <thead>\n",
                            "    <tr style=\"text-align: right;\">\n",
                            "      <th></th>\n",
                            "      <th>CTCF_35846_r1</th>\n",
                            "      <th>CTCF_36632_r1</th>\n",
                            "      <th>CTCF_45230_r1</th>\n",
                            "      <th>CTCF_46184_r1</th>\n",
                            "      <th>CTCF_50988_r1</th>\n",
                            "      <th>RAD21_45689_r1</th>\n",
                            "      <th>RAD21_46164_r1</th>\n",
                            "      <th>RAD21_91096_r1</th>\n",
                            "      <th>RAD21_94415_r1</th>\n",
                            "      <th>CTCF_35846_r2</th>\n",
                            "      <th>CTCF_36632_r2</th>\n",
                            "      <th>CTCF_45230_r2</th>\n",
                            "      <th>CTCF_46184_r2</th>\n",
                            "      <th>CTCF_50988_r2</th>\n",
                            "      <th>RAD21_45689_r2</th>\n",
                            "      <th>RAD21_46164_r2</th>\n",
                            "      <th>RAD21_91096_r2</th>\n",
                            "      <th>RAD21_94415_r2</th>\n",
                            "    </tr>\n",
                            "  </thead>\n",
                            "  <tbody>\n",
                            "    <tr>\n",
                            "      <th>0</th>\n",
                            "      <td>-1.318572</td>\n",
                            "      <td>-0.157354</td>\n",
                            "      <td>-0.339638</td>\n",
                            "      <td>-0.614140</td>\n",
                            "      <td>-0.827945</td>\n",
                            "      <td>0.130854</td>\n",
                            "      <td>-0.933315</td>\n",
                            "      <td>0.898413</td>\n",
                            "      <td>-0.001785</td>\n",
                            "      <td>-1.491006</td>\n",
                            "      <td>0.742233</td>\n",
                            "      <td>0.434203</td>\n",
                            "      <td>-0.125670</td>\n",
                            "      <td>-0.444897</td>\n",
                            "      <td>1.257339</td>\n",
                            "      <td>-0.672018</td>\n",
                            "      <td>2.492324</td>\n",
                            "      <td>0.970974</td>\n",
                            "    </tr>\n",
                            "    <tr>\n",
                            "      <th>1</th>\n",
                            "      <td>-1.573287</td>\n",
                            "      <td>0.056552</td>\n",
                            "      <td>-0.180618</td>\n",
                            "      <td>-0.574109</td>\n",
                            "      <td>-0.892400</td>\n",
                            "      <td>0.500983</td>\n",
                            "      <td>-0.899813</td>\n",
                            "      <td>1.496707</td>\n",
                            "      <td>0.184310</td>\n",
                            "      <td>-1.408912</td>\n",
                            "      <td>0.571536</td>\n",
                            "      <td>0.255217</td>\n",
                            "      <td>-0.272493</td>\n",
                            "      <td>-0.559289</td>\n",
                            "      <td>1.070003</td>\n",
                            "      <td>-0.771598</td>\n",
                            "      <td>2.217087</td>\n",
                            "      <td>0.780124</td>\n",
                            "    </tr>\n",
                            "    <tr>\n",
                            "      <th>2</th>\n",
                            "      <td>-1.455468</td>\n",
                            "      <td>0.150923</td>\n",
                            "      <td>-0.168586</td>\n",
                            "      <td>-0.730053</td>\n",
                            "      <td>-1.001251</td>\n",
                            "      <td>0.579184</td>\n",
                            "      <td>-1.103368</td>\n",
                            "      <td>1.688356</td>\n",
                            "      <td>0.388852</td>\n",
                            "      <td>-0.980324</td>\n",
                            "      <td>0.605919</td>\n",
                            "      <td>0.260577</td>\n",
                            "      <td>-0.435935</td>\n",
                            "      <td>-0.583242</td>\n",
                            "      <td>0.935045</td>\n",
                            "      <td>-1.027605</td>\n",
                            "      <td>2.048915</td>\n",
                            "      <td>0.828063</td>\n",
                            "    </tr>\n",
                            "    <tr>\n",
                            "      <th>3</th>\n",
                            "      <td>-1.323979</td>\n",
                            "      <td>0.103611</td>\n",
                            "      <td>-0.176518</td>\n",
                            "      <td>-0.885393</td>\n",
                            "      <td>-0.967052</td>\n",
                            "      <td>0.498324</td>\n",
                            "      <td>-1.200650</td>\n",
                            "      <td>1.512596</td>\n",
                            "      <td>0.291995</td>\n",
                            "      <td>-0.865260</td>\n",
                            "      <td>0.736269</td>\n",
                            "      <td>0.382021</td>\n",
                            "      <td>-0.524749</td>\n",
                            "      <td>-0.624298</td>\n",
                            "      <td>0.966360</td>\n",
                            "      <td>-0.997551</td>\n",
                            "      <td>2.114469</td>\n",
                            "      <td>0.959804</td>\n",
                            "    </tr>\n",
                            "    <tr>\n",
                            "      <th>4</th>\n",
                            "      <td>-1.446131</td>\n",
                            "      <td>0.083871</td>\n",
                            "      <td>-0.150503</td>\n",
                            "      <td>-0.980339</td>\n",
                            "      <td>-1.029557</td>\n",
                            "      <td>0.409386</td>\n",
                            "      <td>-1.089981</td>\n",
                            "      <td>1.583741</td>\n",
                            "      <td>0.399450</td>\n",
                            "      <td>-0.842970</td>\n",
                            "      <td>0.651597</td>\n",
                            "      <td>0.363544</td>\n",
                            "      <td>-0.530841</td>\n",
                            "      <td>-0.520532</td>\n",
                            "      <td>1.000578</td>\n",
                            "      <td>-0.901557</td>\n",
                            "      <td>2.091617</td>\n",
                            "      <td>0.908629</td>\n",
                            "    </tr>\n",
                            "  </tbody>\n",
                            "</table>\n",
                            "</div>"
                        ]
                    },
                    "metadata": {},
                    "execution_count": 3
                }
            ],
            "metadata": {}
        },
        {
            "cell_type": "code",
            "execution_count": 4,
            "source": [
                "zmat.shape"
            ],
            "outputs": [
                {
                    "output_type": "execute_result",
                    "data": {
                        "text/plain": [
                            "(20, 18)"
                        ]
                    },
                    "metadata": {},
                    "execution_count": 4
                }
            ],
            "metadata": {}
        },
        {
            "cell_type": "code",
            "execution_count": 5,
            "source": [
                "# mean of zscore for each column\n",
                "# exclude first two rows\n",
                "\n",
                "zscore_mean = zmat.drop([0,1]).mean(axis=0)\n",
                "print(zscore_mean)\n",
                "len(zscore_mean)"
            ],
            "outputs": [
                {
                    "output_type": "stream",
                    "name": "stdout",
                    "text": [
                        "CTCF_35846_r1    -1.866253\n",
                        "CTCF_36632_r1    -0.271989\n",
                        "CTCF_45230_r1    -0.451209\n",
                        "CTCF_46184_r1    -0.972928\n",
                        "CTCF_50988_r1    -1.170399\n",
                        "RAD21_45689_r1    0.240721\n",
                        "RAD21_46164_r1   -0.839678\n",
                        "RAD21_91096_r1    1.207393\n",
                        "RAD21_94415_r1   -0.043953\n",
                        "CTCF_35846_r2    -0.799181\n",
                        "CTCF_36632_r2     0.676505\n",
                        "CTCF_45230_r2     0.480833\n",
                        "CTCF_46184_r2    -0.031745\n",
                        "CTCF_50988_r2    -0.213010\n",
                        "RAD21_45689_r2    1.159113\n",
                        "RAD21_46164_r2    0.037142\n",
                        "RAD21_91096_r2    2.147408\n",
                        "RAD21_94415_r2    0.711231\n",
                        "dtype: float64\n"
                    ]
                },
                {
                    "output_type": "execute_result",
                    "data": {
                        "text/plain": [
                            "18"
                        ]
                    },
                    "metadata": {},
                    "execution_count": 5
                }
            ],
            "metadata": {}
        },
        {
            "cell_type": "code",
            "execution_count": 11,
            "source": [
                "# peak number\n",
                "\n",
                "## load bed files\n",
                "bedpath = '../data/bed/ctcf.rad21/'\n",
                "bedfile = glob.glob(os.path.join(bedpath,'*.bed'))\n",
                "peaknum = []\n",
                "for b in bedfile:\n",
                "    bed = pr.read_bed(b)\n",
                "    peaknum.append(len(bed))"
            ],
            "outputs": [],
            "metadata": {}
        },
        {
            "cell_type": "code",
            "execution_count": 12,
            "source": [
                "print(peaknum)\n",
                "len(peaknum)"
            ],
            "outputs": [
                {
                    "output_type": "stream",
                    "name": "stdout",
                    "text": [
                        "[70084, 82900, 87184, 101440, 97256, 92669, 151864, 86582, 51993]\n"
                    ]
                },
                {
                    "output_type": "execute_result",
                    "data": {
                        "text/plain": [
                            "9"
                        ]
                    },
                    "metadata": {},
                    "execution_count": 12
                }
            ],
            "metadata": {}
        },
        {
            "cell_type": "code",
            "execution_count": 14,
            "source": [
                "#peaknum = np.repeat(peaknum, 2)\n",
                "peaknum = peaknum + peaknum\n",
                "peaknum"
            ],
            "outputs": [
                {
                    "output_type": "execute_result",
                    "data": {
                        "text/plain": [
                            "[70084,\n",
                            " 82900,\n",
                            " 87184,\n",
                            " 101440,\n",
                            " 97256,\n",
                            " 92669,\n",
                            " 151864,\n",
                            " 86582,\n",
                            " 51993,\n",
                            " 70084,\n",
                            " 82900,\n",
                            " 87184,\n",
                            " 101440,\n",
                            " 97256,\n",
                            " 92669,\n",
                            " 151864,\n",
                            " 86582,\n",
                            " 51993]"
                        ]
                    },
                    "metadata": {},
                    "execution_count": 14
                }
            ],
            "metadata": {}
        },
        {
            "cell_type": "code",
            "execution_count": 15,
            "source": [
                "len(peaknum)\n",
                "#type(peaknum)"
            ],
            "outputs": [
                {
                    "output_type": "execute_result",
                    "data": {
                        "text/plain": [
                            "18"
                        ]
                    },
                    "metadata": {},
                    "execution_count": 15
                }
            ],
            "metadata": {}
        },
        {
            "cell_type": "code",
            "execution_count": 124,
            "source": [
                "min(peaknum)"
            ],
            "outputs": [
                {
                    "output_type": "execute_result",
                    "data": {
                        "text/plain": [
                            "51993"
                        ]
                    },
                    "metadata": {},
                    "execution_count": 124
                }
            ],
            "metadata": {}
        },
        {
            "cell_type": "code",
            "execution_count": 19,
            "source": [
                "zscore_mean"
            ],
            "outputs": [
                {
                    "output_type": "execute_result",
                    "data": {
                        "text/plain": [
                            "Index(['CTCF_35846_r1', 'CTCF_36632_r1', 'CTCF_45230_r1', 'CTCF_46184_r1',\n",
                            "       'CTCF_50988_r1', 'RAD21_45689_r1', 'RAD21_46164_r1', 'RAD21_91096_r1',\n",
                            "       'RAD21_94415_r1', 'CTCF_35846_r2', 'CTCF_36632_r2', 'CTCF_45230_r2',\n",
                            "       'CTCF_46184_r2', 'CTCF_50988_r2', 'RAD21_45689_r2', 'RAD21_46164_r2',\n",
                            "       'RAD21_91096_r2', 'RAD21_94415_r2'],\n",
                            "      dtype='object')"
                        ]
                    },
                    "metadata": {},
                    "execution_count": 19
                }
            ],
            "metadata": {}
        },
        {
            "cell_type": "code",
            "execution_count": 74,
            "source": [
                "## plot\n",
                "plt.figure(figsize=(8,6))\n",
                "\n",
                "plt.title(\"Z-score vs peak number\") #title\n",
                "plt.xlabel(\"Z-sore\") #x label\n",
                "plt.ylabel(\"Peak number\") #y label\n",
                "\n",
                "sns.regplot(x=zscore_mean, y=peaknum, fit_reg=True, marker=\"o\", color=\"skyblue\")\n",
                "for i in range(0, len(zscore_mean)):\n",
                "     plt.text(x=zscore_mean[i]+0.1, y=peaknum[i]-2500,\n",
                "          s=zscore_mean.index[i], horizontalalignment='center',\n",
                "          fontsize=8, color='black')\n",
                "\n",
                "plt.savefig('ctcf_rad21_zvsp.pdf')\n",
                "plt.show()"
            ],
            "outputs": [
                {
                    "output_type": "display_data",
                    "data": {
                        "text/plain": [
                            "<Figure size 576x432 with 1 Axes>"
                        ],
                        "image/png": "[encoded data removed]"
                    },
                    "metadata": {
                        "needs_background": "light"
                    }
                }
            ],
            "metadata": {}
        },
        {
            "cell_type": "code",
            "execution_count": 135,
            "source": [
                "## plot\n",
                "plt.figure(figsize=(8,6))\n",
                "\n",
                "plt.title(\"Peak number vs Z-score\") #title\n",
                "plt.ylabel(\"Z-sore\") #x label\n",
                "plt.xlabel(\"Peak number\") #y label\n",
                "\n",
                "plt.xlim((50000, 160000))\n",
                "#plt.ylim((-2, 2))\n",
                "\n",
                "sns.regplot(x=peaknum, y=zscore_mean, fit_reg=True, marker=\"o\", color=\"skyblue\")\n",
                "for i in range(0, len(zscore_mean)):\n",
                "     plt.text(x=peaknum[i]-2000, y=zscore_mean[i]-0.2,\n",
                "          s=zscore_mean.index[i], fontsize=8, color='black')\n",
                "\n",
                "plt.savefig('ctcf_rad21_pknum_zs.pdf')\n",
                "#plt.margins(0.1)\n",
                "plt.show()"
            ],
            "outputs": [
                {
                    "output_type": "display_data",
                    "data": {
                        "text/plain": [
                            "<Figure size 576x432 with 1 Axes>"
                        ],
                        "image/png": "[encoded data removed]"
                    },
                    "metadata": {
                        "needs_background": "light"
                    }
                }
            ],
            "metadata": {}
        },
        {
            "cell_type": "code",
            "execution_count": 137,
            "source": [
                "## test the correlation \n",
                "scipy.stats.pearsonr(zscore_mean, peaknum)"
            ],
            "outputs": [
                {
                    "output_type": "execute_result",
                    "data": {
                        "text/plain": [
                            "(-0.1239421893583109, 0.6241424554907886)"
                        ]
                    },
                    "metadata": {},
                    "execution_count": 137
                }
            ],
            "metadata": {}
        },
        {
            "cell_type": "code",
            "execution_count": 138,
            "source": [
                "scipy.stats.spearmanr(zscore_mean, peaknum)"
            ],
            "outputs": [
                {
                    "output_type": "execute_result",
                    "data": {
                        "text/plain": [
                            "SpearmanrResult(correlation=-0.18247995399092784, pvalue=0.4686138430937522)"
                        ]
                    },
                    "metadata": {},
                    "execution_count": 138
                }
            ],
            "metadata": {}
        },
        {
            "cell_type": "code",
            "execution_count": 139,
            "source": [
                "scipy.stats.kendalltau(zscore_mean, peaknum)"
            ],
            "outputs": [
                {
                    "output_type": "execute_result",
                    "data": {
                        "text/plain": [
                            "KendalltauResult(correlation=-0.1347420139090739, pvalue=0.4457659079148423)"
                        ]
                    },
                    "metadata": {},
                    "execution_count": 139
                }
            ],
            "metadata": {}
        }
    ],
    "metadata": {
        "orig_nbformat": 4,
        "language_info": {
            "name": "python"
        }
    },
    "nbformat": 4,
    "nbformat_minor": 2
}