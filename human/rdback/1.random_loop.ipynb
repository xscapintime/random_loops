{
 "cells": [
  {
   "cell_type": "code",
   "execution_count": 22,
   "source": [
    "import os, sys, glob, re\n",
    "import numpy as np\n",
    "import pandas as pd\n",
    "import pyranges as pr"
   ],
   "outputs": [],
   "metadata": {
    "execution": {
     "iopub.execute_input": "2021-07-12T04:48:38.170108Z",
     "iopub.status.busy": "2021-07-12T04:48:38.169918Z",
     "iopub.status.idle": "2021-07-12T04:48:51.681531Z",
     "shell.execute_reply": "2021-07-12T04:48:51.680634Z",
     "shell.execute_reply.started": "2021-07-12T04:48:38.170090Z"
    },
    "tags": []
   }
  },
  {
   "cell_type": "code",
   "execution_count": 71,
   "source": [
    "#files = os.listdir('../data/ctcf.rad21/')\n",
    "#len(files)\n",
    "\n",
    "path = '../data/random_loop/ctcf.rad21/'\n",
    "file = glob.glob(os.path.join(path,'*.txt'))\n",
    "d1 = [] \n",
    "d2 = []\n",
    "\n",
    "for f in file:\n",
    "    if  re.match('.*r1.*', f) != None:\n",
    "        d1.append(pd.read_csv(f,comment='#',header=None))\n",
    "    else: #re.match('.*r2.*', f) != None:\n",
    "        d2.append(pd.read_csv(f,comment='#',header=None))\n",
    "data_r1 = pd.concat(d1,axis=1)\n",
    "data_r2 = pd.concat(d2,axis=1)\n",
    "\n",
    "print(data_r1.head())\n",
    "print(data_r2.head())"
   ],
   "outputs": [
    {
     "output_type": "stream",
     "name": "stdout",
     "text": [
      "         0        0        0        0        0        0        0        0  \\\n",
      "0  1688853  1680914  1679762  1679058  1669044  2276007  2261564  2262570   \n",
      "1   513477   512083   508559   510371   507279   690779   688528   686044   \n",
      "2   173533   173091   172080   171346   171225   233836   232323   231641   \n",
      "3    89869    89340    89210    89155    89180   120875   119847   120105   \n",
      "4    59495    59135    58849    58896    59265    79949    79575    79384   \n",
      "\n",
      "         0        0  ...        0        0        0        0        0       0  \\\n",
      "0  2250813  2254535  ...  2451019  2437673  2440429  2431075  2429150  986450   \n",
      "1   684400   685371  ...   743813   741920   739963   739152   738617  299804   \n",
      "2   230184   231215  ...   251459   250426   250036   248459   249326  101724   \n",
      "3   119072   120532  ...   130249   129026   129486   128525   129833   52714   \n",
      "4    78744    79665  ...    86068    85692    85575    84974    85538   35004   \n",
      "\n",
      "        0       0       0       0  \n",
      "0  974813  982217  975096  973010  \n",
      "1  297565  297680  296524  295732  \n",
      "2  100902  101337   99763  100238  \n",
      "3   52317   52658   51947   52647  \n",
      "4   34422   34703   34306   34665  \n",
      "\n",
      "[5 rows x 45 columns]\n",
      "         0        0        0        0        0        0        0        0  \\\n",
      "0  2951081  2940936  2934856  2938687  2924363  3978164  3958024  3957103   \n",
      "1   617231   614877   612517   614211   610150   831054   828541   825326   \n",
      "2   189049   187888   186953   187889   186029   254035   252505   252177   \n",
      "3   103409   103636   103706   103680   104259   138856   139357   139707   \n",
      "4    69703    69480    68798    68704    68905    93604    93130    92500   \n",
      "\n",
      "         0        0  ...        0        0        0        0        0  \\\n",
      "0  3939784  3952059  ...  4285152  4268134  4267432  4256302  4257975   \n",
      "1   823033   824238  ...   894857   892872   890321   889104   888644   \n",
      "2   251627   251316  ...   273328   272068   272092   271397   270836   \n",
      "3   138537   140267  ...   149875   150223   150816   149701   150946   \n",
      "4    91901    92950  ...   100725   100100   100046    99221    99930   \n",
      "\n",
      "         0        0        0        0        0  \n",
      "0  1724560  1704621  1714955  1705574  1703894  \n",
      "1   360784   356523   358725   356964   355878  \n",
      "2   110699   108846   109921   109373   108892  \n",
      "3    60494    59981    61230    60183    61220  \n",
      "4    40749    40519    40658    39936    40325  \n",
      "\n",
      "[5 rows x 45 columns]\n"
     ]
    }
   ],
   "metadata": {
    "execution": {
     "iopub.execute_input": "2021-07-12T04:51:46.115269Z",
     "iopub.status.busy": "2021-07-12T04:51:46.115068Z",
     "iopub.status.idle": "2021-07-12T04:51:47.332632Z",
     "shell.execute_reply": "2021-07-12T04:51:47.331697Z",
     "shell.execute_reply.started": "2021-07-12T04:51:46.115250Z"
    },
    "tags": []
   }
  },
  {
   "cell_type": "code",
   "execution_count": 125,
   "source": [
    "# lpfiles = []\n",
    "# for f in files:\n",
    "#     if os.path.splitext(f)[1] == '.txt':\n",
    "#         #print(f)\n",
    "#         lpfiles.append(f)\n",
    "#print(lpfiles)"
   ],
   "outputs": [],
   "metadata": {
    "execution": {
     "iopub.execute_input": "2021-07-11T10:44:18.082648Z",
     "iopub.status.busy": "2021-07-11T10:44:18.082459Z",
     "iopub.status.idle": "2021-07-11T10:44:18.086275Z",
     "shell.execute_reply": "2021-07-11T10:44:18.085490Z",
     "shell.execute_reply.started": "2021-07-11T10:44:18.082628Z"
    },
    "tags": []
   }
  },
  {
   "cell_type": "code",
   "execution_count": 74,
   "source": [
    "filename_r1 = []\n",
    "filename_r2 = []\n",
    "#rep = []\n",
    "\n",
    "for f in file:\n",
    "    #rep = os.path.split(f)[1].split('primed_')[1].split('.intral')[0]\n",
    "    if  re.match('.*r1.*', f) != None:\n",
    "        fn = os.path.split(f)[1].split('.hesc')[0].replace(\"_shuff\", \"\")\n",
    "        filename_r1.append(fn + '_r1')\n",
    "    else:\n",
    "        fn = os.path.split(f)[1].split('.hesc')[0].replace(\"_shuff\", \"\")\n",
    "        filename_r2.append(fn + '_r2')\n",
    "\n",
    "print(filename_r1)\n",
    "print(filename_r2)"
   ],
   "outputs": [
    {
     "output_type": "stream",
     "name": "stdout",
     "text": [
      "['CTCF_35846_01_r1', 'CTCF_35846_02_r1', 'CTCF_35846_03_r1', 'CTCF_35846_04_r1', 'CTCF_35846_05_r1', 'CTCF_36632_01_r1', 'CTCF_36632_02_r1', 'CTCF_36632_03_r1', 'CTCF_36632_04_r1', 'CTCF_36632_05_r1', 'CTCF_45230_01_r1', 'CTCF_45230_02_r1', 'CTCF_45230_03_r1', 'CTCF_45230_04_r1', 'CTCF_45230_05_r1', 'CTCF_46184_01_r1', 'CTCF_46184_02_r1', 'CTCF_46184_03_r1', 'CTCF_46184_04_r1', 'CTCF_46184_05_r1', 'CTCF_50988_01_r1', 'CTCF_50988_02_r1', 'CTCF_50988_03_r1', 'CTCF_50988_04_r1', 'CTCF_50988_05_r1', 'RAD21_45689_01_r1', 'RAD21_45689_02_r1', 'RAD21_45689_03_r1', 'RAD21_45689_04_r1', 'RAD21_45689_05_r1', 'RAD21_46164_01_r1', 'RAD21_46164_02_r1', 'RAD21_46164_03_r1', 'RAD21_46164_04_r1', 'RAD21_46164_05_r1', 'RAD21_91096_01_r1', 'RAD21_91096_02_r1', 'RAD21_91096_03_r1', 'RAD21_91096_04_r1', 'RAD21_91096_05_r1', 'RAD21_94415_01_r1', 'RAD21_94415_02_r1', 'RAD21_94415_03_r1', 'RAD21_94415_04_r1', 'RAD21_94415_05_r1']\n",
      "['CTCF_35846_01_r2', 'CTCF_35846_02_r2', 'CTCF_35846_03_r2', 'CTCF_35846_04_r2', 'CTCF_35846_05_r2', 'CTCF_36632_01_r2', 'CTCF_36632_02_r2', 'CTCF_36632_03_r2', 'CTCF_36632_04_r2', 'CTCF_36632_05_r2', 'CTCF_45230_01_r2', 'CTCF_45230_02_r2', 'CTCF_45230_03_r2', 'CTCF_45230_04_r2', 'CTCF_45230_05_r2', 'CTCF_46184_01_r2', 'CTCF_46184_02_r2', 'CTCF_46184_03_r2', 'CTCF_46184_04_r2', 'CTCF_46184_05_r2', 'CTCF_50988_01_r2', 'CTCF_50988_02_r2', 'CTCF_50988_03_r2', 'CTCF_50988_04_r2', 'CTCF_50988_05_r2', 'RAD21_45689_01_r2', 'RAD21_45689_02_r2', 'RAD21_45689_03_r2', 'RAD21_45689_04_r2', 'RAD21_45689_05_r2', 'RAD21_46164_01_r2', 'RAD21_46164_02_r2', 'RAD21_46164_03_r2', 'RAD21_46164_04_r2', 'RAD21_46164_05_r2', 'RAD21_91096_01_r2', 'RAD21_91096_02_r2', 'RAD21_91096_03_r2', 'RAD21_91096_04_r2', 'RAD21_91096_05_r2', 'RAD21_94415_01_r2', 'RAD21_94415_02_r2', 'RAD21_94415_03_r2', 'RAD21_94415_04_r2', 'RAD21_94415_05_r2']\n"
     ]
    }
   ],
   "metadata": {
    "execution": {
     "iopub.execute_input": "2021-07-12T04:52:32.323390Z",
     "iopub.status.busy": "2021-07-12T04:52:32.323171Z",
     "iopub.status.idle": "2021-07-12T04:52:32.328826Z",
     "shell.execute_reply": "2021-07-12T04:52:32.327896Z",
     "shell.execute_reply.started": "2021-07-12T04:52:32.323370Z"
    },
    "tags": []
   }
  },
  {
   "cell_type": "code",
   "execution_count": 75,
   "source": [
    "data_r1.columns = filename_r1\n",
    "data_r2.columns = filename_r2\n",
    "print(data_r1.head())\n",
    "print(data_r2.head())"
   ],
   "outputs": [
    {
     "output_type": "stream",
     "name": "stdout",
     "text": [
      "   CTCF_35846_01_r1  CTCF_35846_02_r1  CTCF_35846_03_r1  CTCF_35846_04_r1  \\\n",
      "0           1688853           1680914           1679762           1679058   \n",
      "1            513477            512083            508559            510371   \n",
      "2            173533            173091            172080            171346   \n",
      "3             89869             89340             89210             89155   \n",
      "4             59495             59135             58849             58896   \n",
      "\n",
      "   CTCF_35846_05_r1  CTCF_36632_01_r1  CTCF_36632_02_r1  CTCF_36632_03_r1  \\\n",
      "0           1669044           2276007           2261564           2262570   \n",
      "1            507279            690779            688528            686044   \n",
      "2            171225            233836            232323            231641   \n",
      "3             89180            120875            119847            120105   \n",
      "4             59265             79949             79575             79384   \n",
      "\n",
      "   CTCF_36632_04_r1  CTCF_36632_05_r1  ...  RAD21_91096_01_r1  \\\n",
      "0           2250813           2254535  ...            2451019   \n",
      "1            684400            685371  ...             743813   \n",
      "2            230184            231215  ...             251459   \n",
      "3            119072            120532  ...             130249   \n",
      "4             78744             79665  ...              86068   \n",
      "\n",
      "   RAD21_91096_02_r1  RAD21_91096_03_r1  RAD21_91096_04_r1  RAD21_91096_05_r1  \\\n",
      "0            2437673            2440429            2431075            2429150   \n",
      "1             741920             739963             739152             738617   \n",
      "2             250426             250036             248459             249326   \n",
      "3             129026             129486             128525             129833   \n",
      "4              85692              85575              84974              85538   \n",
      "\n",
      "   RAD21_94415_01_r1  RAD21_94415_02_r1  RAD21_94415_03_r1  RAD21_94415_04_r1  \\\n",
      "0             986450             974813             982217             975096   \n",
      "1             299804             297565             297680             296524   \n",
      "2             101724             100902             101337              99763   \n",
      "3              52714              52317              52658              51947   \n",
      "4              35004              34422              34703              34306   \n",
      "\n",
      "   RAD21_94415_05_r1  \n",
      "0             973010  \n",
      "1             295732  \n",
      "2             100238  \n",
      "3              52647  \n",
      "4              34665  \n",
      "\n",
      "[5 rows x 45 columns]\n",
      "   CTCF_35846_01_r2  CTCF_35846_02_r2  CTCF_35846_03_r2  CTCF_35846_04_r2  \\\n",
      "0           2951081           2940936           2934856           2938687   \n",
      "1            617231            614877            612517            614211   \n",
      "2            189049            187888            186953            187889   \n",
      "3            103409            103636            103706            103680   \n",
      "4             69703             69480             68798             68704   \n",
      "\n",
      "   CTCF_35846_05_r2  CTCF_36632_01_r2  CTCF_36632_02_r2  CTCF_36632_03_r2  \\\n",
      "0           2924363           3978164           3958024           3957103   \n",
      "1            610150            831054            828541            825326   \n",
      "2            186029            254035            252505            252177   \n",
      "3            104259            138856            139357            139707   \n",
      "4             68905             93604             93130             92500   \n",
      "\n",
      "   CTCF_36632_04_r2  CTCF_36632_05_r2  ...  RAD21_91096_01_r2  \\\n",
      "0           3939784           3952059  ...            4285152   \n",
      "1            823033            824238  ...             894857   \n",
      "2            251627            251316  ...             273328   \n",
      "3            138537            140267  ...             149875   \n",
      "4             91901             92950  ...             100725   \n",
      "\n",
      "   RAD21_91096_02_r2  RAD21_91096_03_r2  RAD21_91096_04_r2  RAD21_91096_05_r2  \\\n",
      "0            4268134            4267432            4256302            4257975   \n",
      "1             892872             890321             889104             888644   \n",
      "2             272068             272092             271397             270836   \n",
      "3             150223             150816             149701             150946   \n",
      "4             100100             100046              99221              99930   \n",
      "\n",
      "   RAD21_94415_01_r2  RAD21_94415_02_r2  RAD21_94415_03_r2  RAD21_94415_04_r2  \\\n",
      "0            1724560            1704621            1714955            1705574   \n",
      "1             360784             356523             358725             356964   \n",
      "2             110699             108846             109921             109373   \n",
      "3              60494              59981              61230              60183   \n",
      "4              40749              40519              40658              39936   \n",
      "\n",
      "   RAD21_94415_05_r2  \n",
      "0            1703894  \n",
      "1             355878  \n",
      "2             108892  \n",
      "3              61220  \n",
      "4              40325  \n",
      "\n",
      "[5 rows x 45 columns]\n"
     ]
    }
   ],
   "metadata": {
    "execution": {
     "iopub.execute_input": "2021-07-12T04:52:33.610133Z",
     "iopub.status.busy": "2021-07-12T04:52:33.609897Z",
     "iopub.status.idle": "2021-07-12T04:52:33.628263Z",
     "shell.execute_reply": "2021-07-12T04:52:33.627282Z",
     "shell.execute_reply.started": "2021-07-12T04:52:33.610112Z"
    },
    "tags": []
   }
  },
  {
   "cell_type": "code",
   "execution_count": 78,
   "source": [
    "## load bed files\n",
    "bedpath = '../data/bed/ctcf.rad21/'\n",
    "bedfile = glob.glob(os.path.join(bedpath,'*.bed'))\n",
    "peaknum = []\n",
    "for b in bedfile:\n",
    "    bed = pr.read_bed(b)\n",
    "    peaknum.append(len(bed))"
   ],
   "outputs": [],
   "metadata": {
    "execution": {
     "iopub.execute_input": "2021-07-12T04:52:44.254152Z",
     "iopub.status.busy": "2021-07-12T04:52:44.253942Z",
     "iopub.status.idle": "2021-07-12T04:52:45.516577Z",
     "shell.execute_reply": "2021-07-12T04:52:45.515539Z",
     "shell.execute_reply.started": "2021-07-12T04:52:44.254133Z"
    },
    "tags": []
   }
  },
  {
   "cell_type": "code",
   "execution_count": 79,
   "source": [
    "print(peaknum)"
   ],
   "outputs": [
    {
     "output_type": "stream",
     "name": "stdout",
     "text": [
      "[70084, 82900, 87184, 101440, 97256, 92669, 151864, 86582, 51993]\n"
     ]
    }
   ],
   "metadata": {
    "execution": {
     "iopub.execute_input": "2021-07-12T04:53:37.478285Z",
     "iopub.status.busy": "2021-07-12T04:53:37.478087Z",
     "iopub.status.idle": "2021-07-12T04:53:37.482459Z",
     "shell.execute_reply": "2021-07-12T04:53:37.481346Z",
     "shell.execute_reply.started": "2021-07-12T04:53:37.478266Z"
    },
    "tags": []
   }
  },
  {
   "cell_type": "code",
   "execution_count": 80,
   "source": [
    "## 5 shuffled bed\n",
    "peaknum = np.repeat(peaknum, 5)\n",
    "peaknum"
   ],
   "outputs": [
    {
     "output_type": "execute_result",
     "data": {
      "text/plain": [
       "array([ 70084,  70084,  70084,  70084,  70084,  82900,  82900,  82900,\n",
       "        82900,  82900,  87184,  87184,  87184,  87184,  87184, 101440,\n",
       "       101440, 101440, 101440, 101440,  97256,  97256,  97256,  97256,\n",
       "        97256,  92669,  92669,  92669,  92669,  92669, 151864, 151864,\n",
       "       151864, 151864, 151864,  86582,  86582,  86582,  86582,  86582,\n",
       "        51993,  51993,  51993,  51993,  51993])"
      ]
     },
     "metadata": {},
     "execution_count": 80
    }
   ],
   "metadata": {}
  },
  {
   "cell_type": "code",
   "execution_count": 81,
   "source": [
    "len(peaknum)"
   ],
   "outputs": [
    {
     "output_type": "execute_result",
     "data": {
      "text/plain": [
       "45"
      ]
     },
     "metadata": {},
     "execution_count": 81
    }
   ],
   "metadata": {}
  },
  {
   "cell_type": "code",
   "execution_count": 82,
   "source": [
    "data_r1.shape\n",
    "data_r2.shape"
   ],
   "outputs": [
    {
     "output_type": "execute_result",
     "data": {
      "text/plain": [
       "(20, 45)"
      ]
     },
     "metadata": {},
     "execution_count": 82
    }
   ],
   "metadata": {}
  },
  {
   "cell_type": "code",
   "execution_count": 83,
   "source": [
    "back_r1 = data_r1.div(peaknum)\n",
    "back_r2 = data_r2.div(peaknum)"
   ],
   "outputs": [],
   "metadata": {}
  },
  {
   "cell_type": "code",
   "execution_count": 86,
   "source": [
    "print(back_r1.head())\n",
    "print(back_r2.head())"
   ],
   "outputs": [
    {
     "output_type": "stream",
     "name": "stdout",
     "text": [
      "   CTCF_35846_01_r1  CTCF_35846_02_r1  CTCF_35846_03_r1  CTCF_35846_04_r1  \\\n",
      "0         24.097554         23.984276         23.967839         23.957794   \n",
      "1          7.326594          7.306703          7.256421          7.282276   \n",
      "2          2.476072          2.469765          2.455339          2.444866   \n",
      "3          1.282304          1.274756          1.272901          1.272116   \n",
      "4          0.848910          0.843773          0.839692          0.840363   \n",
      "\n",
      "   CTCF_35846_05_r1  CTCF_36632_01_r1  CTCF_36632_02_r1  CTCF_36632_03_r1  \\\n",
      "0         23.814908         27.454849         27.280627         27.292762   \n",
      "1          7.238157          8.332678          8.305525          8.275561   \n",
      "2          2.443140          2.820700          2.802449          2.794222   \n",
      "3          1.272473          1.458082          1.445682          1.448794   \n",
      "4          0.845628          0.964403          0.959891          0.957587   \n",
      "\n",
      "   CTCF_36632_04_r1  CTCF_36632_05_r1  ...  RAD21_91096_01_r1  \\\n",
      "0         27.150941         27.195838  ...          28.308644   \n",
      "1          8.255730          8.267443  ...           8.590850   \n",
      "2          2.776647          2.789083  ...           2.904287   \n",
      "3          1.436333          1.453945  ...           1.504343   \n",
      "4          0.949867          0.960977  ...           0.994063   \n",
      "\n",
      "   RAD21_91096_02_r1  RAD21_91096_03_r1  RAD21_91096_04_r1  RAD21_91096_05_r1  \\\n",
      "0          28.154501          28.186332          28.078296          28.056062   \n",
      "1           8.568987           8.546384           8.537017           8.530838   \n",
      "2           2.892356           2.887852           2.869638           2.879652   \n",
      "3           1.490217           1.495530           1.484431           1.499538   \n",
      "4           0.989721           0.988369           0.981428           0.987942   \n",
      "\n",
      "   RAD21_94415_01_r1  RAD21_94415_02_r1  RAD21_94415_03_r1  RAD21_94415_04_r1  \\\n",
      "0          18.972746          18.748928          18.891332          18.754371   \n",
      "1           5.766238           5.723174           5.725386           5.703152   \n",
      "2           1.956494           1.940684           1.949051           1.918778   \n",
      "3           1.013867           1.006232           1.012790           0.999115   \n",
      "4           0.673244           0.662051           0.667455           0.659820   \n",
      "\n",
      "   RAD21_94415_05_r1  \n",
      "0          18.714250  \n",
      "1           5.687920  \n",
      "2           1.927913  \n",
      "3           1.012579  \n",
      "4           0.666724  \n",
      "\n",
      "[5 rows x 45 columns]\n",
      "   CTCF_35846_01_r2  CTCF_35846_02_r2  CTCF_35846_03_r2  CTCF_35846_04_r2  \\\n",
      "0         42.107771         41.963016         41.876263         41.930926   \n",
      "1          8.807017          8.773429          8.739755          8.763926   \n",
      "2          2.697463          2.680897          2.667556          2.680911   \n",
      "3          1.475501          1.478740          1.479739          1.479368   \n",
      "4          0.994564          0.991382          0.981651          0.980309   \n",
      "\n",
      "   CTCF_35846_05_r2  CTCF_36632_01_r2  CTCF_36632_02_r2  CTCF_36632_03_r2  \\\n",
      "0         41.726542         47.987503         47.744560         47.733450   \n",
      "1          8.705981         10.024777          9.994463          9.955682   \n",
      "2          2.654372          3.064355          3.045899          3.041942   \n",
      "3          1.487629          1.674982          1.681025          1.685247   \n",
      "4          0.983177          1.129119          1.123402          1.115802   \n",
      "\n",
      "   CTCF_36632_04_r2  CTCF_36632_05_r2  ...  RAD21_91096_01_r2  \\\n",
      "0         47.524536         47.672606  ...          49.492412   \n",
      "1          9.928022          9.942557  ...          10.335370   \n",
      "2          3.035308          3.031556  ...           3.156869   \n",
      "3          1.671134          1.692002  ...           1.731018   \n",
      "4          1.108577          1.121230  ...           1.163348   \n",
      "\n",
      "   RAD21_91096_02_r2  RAD21_91096_03_r2  RAD21_91096_04_r2  RAD21_91096_05_r2  \\\n",
      "0          49.295858          49.287750          49.159202          49.178524   \n",
      "1          10.312444          10.282980          10.268924          10.263611   \n",
      "2           3.142316           3.142593           3.134566           3.128087   \n",
      "3           1.735037           1.741886           1.729008           1.743388   \n",
      "4           1.156129           1.155506           1.145977           1.154166   \n",
      "\n",
      "   RAD21_94415_01_r2  RAD21_94415_02_r2  RAD21_94415_03_r2  RAD21_94415_04_r2  \\\n",
      "0          33.169080          32.785587          32.984344          32.803916   \n",
      "1           6.939088           6.857135           6.899486           6.865617   \n",
      "2           2.129114           2.093474           2.114150           2.103610   \n",
      "3           1.163503           1.153636           1.177659           1.157521   \n",
      "4           0.783740           0.779316           0.781990           0.768103   \n",
      "\n",
      "   RAD21_94415_05_r2  \n",
      "0          32.771604  \n",
      "1           6.844729  \n",
      "2           2.094359  \n",
      "3           1.177466  \n",
      "4           0.775585  \n",
      "\n",
      "[5 rows x 45 columns]\n"
     ]
    }
   ],
   "metadata": {}
  },
  {
   "cell_type": "code",
   "execution_count": 125,
   "source": [
    "m_r1 = []\n",
    "#np.linspace(0, 40, 9)\n",
    "\n",
    "for i in np.linspace(0, 40, 9, dtype=int):\n",
    "    #print(i)\n",
    "    #print(i, i+5)\n",
    "    m_r1.append(back_r1.iloc[:,i:i+5].mean(axis=1))\n",
    "mback_r1 = pd.concat(m_r1, axis=1)"
   ],
   "outputs": [],
   "metadata": {}
  },
  {
   "cell_type": "code",
   "execution_count": 127,
   "source": [
    "m_r2 = []\n",
    "#np.linspace(0, 40, 9)\n",
    "\n",
    "for i in np.linspace(0, 40, 9, dtype=int):\n",
    "    #print(i)\n",
    "    #print(i, i+5)\n",
    "    m_r2.append(back_r2.iloc[:,i:i+5].mean(axis=1))\n",
    "mback_r2 = pd.concat(m_r2, axis=1)"
   ],
   "outputs": [],
   "metadata": {}
  },
  {
   "cell_type": "code",
   "execution_count": 146,
   "source": [
    "sample = []\n",
    "for f in file:\n",
    "    sample.append(os.path.split(f)[1].split('_shuff')[0])\n",
    "name = np.unique(sample)\n",
    "print(name)"
   ],
   "outputs": [
    {
     "output_type": "stream",
     "name": "stdout",
     "text": [
      "['CTCF_35846' 'CTCF_36632' 'CTCF_45230' 'CTCF_46184' 'CTCF_50988'\n",
      " 'RAD21_45689' 'RAD21_46164' 'RAD21_91096' 'RAD21_94415']\n"
     ]
    }
   ],
   "metadata": {}
  },
  {
   "cell_type": "code",
   "execution_count": 149,
   "source": [
    "name = name.tolist()"
   ],
   "outputs": [],
   "metadata": {}
  },
  {
   "cell_type": "code",
   "execution_count": 150,
   "source": [
    "type(name)"
   ],
   "outputs": [
    {
     "output_type": "execute_result",
     "data": {
      "text/plain": [
       "list"
      ]
     },
     "metadata": {},
     "execution_count": 150
    }
   ],
   "metadata": {}
  },
  {
   "cell_type": "code",
   "execution_count": 165,
   "source": [
    "name1 = [name[i] + '_r1' for i in range(len(name))]\n",
    "name2 = [name[i] + '_r2' for i in range(len(name))]"
   ],
   "outputs": [],
   "metadata": {}
  },
  {
   "cell_type": "code",
   "execution_count": 166,
   "source": [
    "mback_r1.columns = name1\n",
    "mback_r2.columns = name2"
   ],
   "outputs": [],
   "metadata": {}
  },
  {
   "cell_type": "code",
   "execution_count": 167,
   "source": [
    "mback_r1.head()"
   ],
   "outputs": [
    {
     "output_type": "execute_result",
     "data": {
      "text/plain": [
       "   CTCF_35846_r1  CTCF_36632_r1  CTCF_45230_r1  CTCF_46184_r1  CTCF_50988_r1  \\\n",
       "0      23.964474      27.275004      28.312920      31.536282      30.624934   \n",
       "1       7.282030       8.287387       8.601874       9.580459       9.303554   \n",
       "2       2.457836       2.796620       2.903083       3.231640       3.138780   \n",
       "3       1.274910       1.448567       1.502744       1.672463       1.623811   \n",
       "4       0.843673       0.958545       0.993774       1.104065       1.072808   \n",
       "\n",
       "   RAD21_45689_r1  RAD21_46164_r1  RAD21_91096_r1  RAD21_94415_r1  \n",
       "0       29.599327       40.675623       28.156767       18.816325  \n",
       "1        8.994786       12.345819        8.554815        5.721174  \n",
       "2        3.034199        4.154281        2.886757        1.938584  \n",
       "3        1.569865        2.151426        1.494812        1.008917  \n",
       "4        1.037585        1.417657        0.988305        0.665859  "
      ],
      "text/html": [
       "<div>\n",
       "<style scoped>\n",
       "    .dataframe tbody tr th:only-of-type {\n",
       "        vertical-align: middle;\n",
       "    }\n",
       "\n",
       "    .dataframe tbody tr th {\n",
       "        vertical-align: top;\n",
       "    }\n",
       "\n",
       "    .dataframe thead th {\n",
       "        text-align: right;\n",
       "    }\n",
       "</style>\n",
       "<table border=\"1\" class=\"dataframe\">\n",
       "  <thead>\n",
       "    <tr style=\"text-align: right;\">\n",
       "      <th></th>\n",
       "      <th>CTCF_35846_r1</th>\n",
       "      <th>CTCF_36632_r1</th>\n",
       "      <th>CTCF_45230_r1</th>\n",
       "      <th>CTCF_46184_r1</th>\n",
       "      <th>CTCF_50988_r1</th>\n",
       "      <th>RAD21_45689_r1</th>\n",
       "      <th>RAD21_46164_r1</th>\n",
       "      <th>RAD21_91096_r1</th>\n",
       "      <th>RAD21_94415_r1</th>\n",
       "    </tr>\n",
       "  </thead>\n",
       "  <tbody>\n",
       "    <tr>\n",
       "      <th>0</th>\n",
       "      <td>23.964474</td>\n",
       "      <td>27.275004</td>\n",
       "      <td>28.312920</td>\n",
       "      <td>31.536282</td>\n",
       "      <td>30.624934</td>\n",
       "      <td>29.599327</td>\n",
       "      <td>40.675623</td>\n",
       "      <td>28.156767</td>\n",
       "      <td>18.816325</td>\n",
       "    </tr>\n",
       "    <tr>\n",
       "      <th>1</th>\n",
       "      <td>7.282030</td>\n",
       "      <td>8.287387</td>\n",
       "      <td>8.601874</td>\n",
       "      <td>9.580459</td>\n",
       "      <td>9.303554</td>\n",
       "      <td>8.994786</td>\n",
       "      <td>12.345819</td>\n",
       "      <td>8.554815</td>\n",
       "      <td>5.721174</td>\n",
       "    </tr>\n",
       "    <tr>\n",
       "      <th>2</th>\n",
       "      <td>2.457836</td>\n",
       "      <td>2.796620</td>\n",
       "      <td>2.903083</td>\n",
       "      <td>3.231640</td>\n",
       "      <td>3.138780</td>\n",
       "      <td>3.034199</td>\n",
       "      <td>4.154281</td>\n",
       "      <td>2.886757</td>\n",
       "      <td>1.938584</td>\n",
       "    </tr>\n",
       "    <tr>\n",
       "      <th>3</th>\n",
       "      <td>1.274910</td>\n",
       "      <td>1.448567</td>\n",
       "      <td>1.502744</td>\n",
       "      <td>1.672463</td>\n",
       "      <td>1.623811</td>\n",
       "      <td>1.569865</td>\n",
       "      <td>2.151426</td>\n",
       "      <td>1.494812</td>\n",
       "      <td>1.008917</td>\n",
       "    </tr>\n",
       "    <tr>\n",
       "      <th>4</th>\n",
       "      <td>0.843673</td>\n",
       "      <td>0.958545</td>\n",
       "      <td>0.993774</td>\n",
       "      <td>1.104065</td>\n",
       "      <td>1.072808</td>\n",
       "      <td>1.037585</td>\n",
       "      <td>1.417657</td>\n",
       "      <td>0.988305</td>\n",
       "      <td>0.665859</td>\n",
       "    </tr>\n",
       "  </tbody>\n",
       "</table>\n",
       "</div>"
      ]
     },
     "metadata": {},
     "execution_count": 167
    }
   ],
   "metadata": {}
  },
  {
   "cell_type": "code",
   "execution_count": 168,
   "source": [
    "mback_r2.head()"
   ],
   "outputs": [
    {
     "output_type": "execute_result",
     "data": {
      "text/plain": [
       "   CTCF_35846_r2  CTCF_36632_r2  CTCF_45230_r2  CTCF_46184_r2  CTCF_50988_r2  \\\n",
       "0      41.920903      47.732531      49.550436      55.221615      53.618156   \n",
       "1       8.758022       9.969100      10.350450      11.530302      11.197390   \n",
       "2       2.676240       3.043812       3.158389       3.516246       3.415049   \n",
       "3       1.480195       1.680878       1.745591       1.941625       1.886520   \n",
       "4       0.986217       1.119626       1.162032       1.292784       1.255215   \n",
       "\n",
       "   RAD21_45689_r2  RAD21_46164_r2  RAD21_91096_r2  RAD21_94415_r2  \n",
       "0       51.811540       71.238272       49.282749       32.902906  \n",
       "1       10.822189       14.870913       10.292666        6.881211  \n",
       "2        3.301259        4.527098        3.140886        2.106941  \n",
       "3        1.825307        2.497124        1.736068        1.165957  \n",
       "4        1.213282        1.660347        1.155025        0.777747  "
      ],
      "text/html": [
       "<div>\n",
       "<style scoped>\n",
       "    .dataframe tbody tr th:only-of-type {\n",
       "        vertical-align: middle;\n",
       "    }\n",
       "\n",
       "    .dataframe tbody tr th {\n",
       "        vertical-align: top;\n",
       "    }\n",
       "\n",
       "    .dataframe thead th {\n",
       "        text-align: right;\n",
       "    }\n",
       "</style>\n",
       "<table border=\"1\" class=\"dataframe\">\n",
       "  <thead>\n",
       "    <tr style=\"text-align: right;\">\n",
       "      <th></th>\n",
       "      <th>CTCF_35846_r2</th>\n",
       "      <th>CTCF_36632_r2</th>\n",
       "      <th>CTCF_45230_r2</th>\n",
       "      <th>CTCF_46184_r2</th>\n",
       "      <th>CTCF_50988_r2</th>\n",
       "      <th>RAD21_45689_r2</th>\n",
       "      <th>RAD21_46164_r2</th>\n",
       "      <th>RAD21_91096_r2</th>\n",
       "      <th>RAD21_94415_r2</th>\n",
       "    </tr>\n",
       "  </thead>\n",
       "  <tbody>\n",
       "    <tr>\n",
       "      <th>0</th>\n",
       "      <td>41.920903</td>\n",
       "      <td>47.732531</td>\n",
       "      <td>49.550436</td>\n",
       "      <td>55.221615</td>\n",
       "      <td>53.618156</td>\n",
       "      <td>51.811540</td>\n",
       "      <td>71.238272</td>\n",
       "      <td>49.282749</td>\n",
       "      <td>32.902906</td>\n",
       "    </tr>\n",
       "    <tr>\n",
       "      <th>1</th>\n",
       "      <td>8.758022</td>\n",
       "      <td>9.969100</td>\n",
       "      <td>10.350450</td>\n",
       "      <td>11.530302</td>\n",
       "      <td>11.197390</td>\n",
       "      <td>10.822189</td>\n",
       "      <td>14.870913</td>\n",
       "      <td>10.292666</td>\n",
       "      <td>6.881211</td>\n",
       "    </tr>\n",
       "    <tr>\n",
       "      <th>2</th>\n",
       "      <td>2.676240</td>\n",
       "      <td>3.043812</td>\n",
       "      <td>3.158389</td>\n",
       "      <td>3.516246</td>\n",
       "      <td>3.415049</td>\n",
       "      <td>3.301259</td>\n",
       "      <td>4.527098</td>\n",
       "      <td>3.140886</td>\n",
       "      <td>2.106941</td>\n",
       "    </tr>\n",
       "    <tr>\n",
       "      <th>3</th>\n",
       "      <td>1.480195</td>\n",
       "      <td>1.680878</td>\n",
       "      <td>1.745591</td>\n",
       "      <td>1.941625</td>\n",
       "      <td>1.886520</td>\n",
       "      <td>1.825307</td>\n",
       "      <td>2.497124</td>\n",
       "      <td>1.736068</td>\n",
       "      <td>1.165957</td>\n",
       "    </tr>\n",
       "    <tr>\n",
       "      <th>4</th>\n",
       "      <td>0.986217</td>\n",
       "      <td>1.119626</td>\n",
       "      <td>1.162032</td>\n",
       "      <td>1.292784</td>\n",
       "      <td>1.255215</td>\n",
       "      <td>1.213282</td>\n",
       "      <td>1.660347</td>\n",
       "      <td>1.155025</td>\n",
       "      <td>0.777747</td>\n",
       "    </tr>\n",
       "  </tbody>\n",
       "</table>\n",
       "</div>"
      ]
     },
     "metadata": {},
     "execution_count": 168
    }
   ],
   "metadata": {}
  },
  {
   "cell_type": "code",
   "execution_count": 169,
   "source": [
    "#back.to_csv(\"ctcf_rad21_meanback.txt\", sep='\\t', index=False)\n",
    "\n",
    "mback_r1.to_csv(\"ctcf_rad21_meanback_r1.txt\", sep='\\t', index=False)\n",
    "mback_r2.to_csv(\"ctcf_rad21_meanback_r2.txt\", sep='\\t', index=False)"
   ],
   "outputs": [],
   "metadata": {
    "execution": {
     "iopub.execute_input": "2021-07-12T05:49:01.917213Z",
     "iopub.status.busy": "2021-07-12T05:49:01.916980Z",
     "iopub.status.idle": "2021-07-12T05:49:01.998053Z",
     "shell.execute_reply": "2021-07-12T05:49:01.997008Z",
     "shell.execute_reply.started": "2021-07-12T05:49:01.917166Z"
    },
    "tags": []
   }
  }
 ],
 "metadata": {
  "kernelspec": {
   "display_name": "Python 3",
   "language": "python",
   "name": "python3"
  },
  "language_info": {
   "codemirror_mode": {
    "name": "ipython",
    "version": 3
   },
   "file_extension": ".py",
   "mimetype": "text/x-python",
   "name": "python",
   "nbconvert_exporter": "python",
   "pygments_lexer": "ipython3",
   "version": "3.8.10"
  }
 },
 "nbformat": 4,
 "nbformat_minor": 4
}